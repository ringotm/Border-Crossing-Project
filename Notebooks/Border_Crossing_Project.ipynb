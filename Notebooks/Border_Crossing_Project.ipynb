{
 "cells": [
  {
   "cell_type": "markdown",
   "metadata": {},
   "source": [
    "# Border Crossing Data Analysis\n",
    "\n",
    " Data was pulled from https://www.kaggle.com/divyansh22/us-border-crossing-data\n",
    "\n",
    "\n",
    "# ![title](Data_Description_Kaggle.png)"
   ]
  },
  {
   "cell_type": "markdown",
   "metadata": {},
   "source": [
    "## Exploratory Data Analysis"
   ]
  },
  {
   "cell_type": "code",
   "execution_count": 1,
   "metadata": {},
   "outputs": [],
   "source": [
    "import pandas as pd"
   ]
  },
  {
   "cell_type": "markdown",
   "metadata": {},
   "source": [
    "**First we'll import the data using pandas read_csv function. Upon import we'll set the parse_dates parameter to the 'Date' column so it converts the dates to data type of datetime. Then we'll disply the first 5 rows of the dataframe using the head function.**"
   ]
  },
  {
   "cell_type": "code",
   "execution_count": 14,
   "metadata": {},
   "outputs": [
    {
     "output_type": "execute_result",
     "data": {
      "text/plain": "  Port Name State  Port Code            Border       Date  \\\n0     Alcan    AK       3104  US-Canada Border 2020-02-01   \n1     Alcan    AK       3104  US-Canada Border 2020-02-01   \n2     Alcan    AK       3104  US-Canada Border 2020-02-01   \n3     Alcan    AK       3104  US-Canada Border 2020-02-01   \n4     Alcan    AK       3104  US-Canada Border 2020-02-01   \n\n                       Measure  Value  \n0  Personal Vehicle Passengers   1414  \n1            Personal Vehicles    763  \n2       Truck Containers Empty    412  \n3        Truck Containers Full    122  \n4                       Trucks    545  ",
      "text/html": "<div>\n<style scoped>\n    .dataframe tbody tr th:only-of-type {\n        vertical-align: middle;\n    }\n\n    .dataframe tbody tr th {\n        vertical-align: top;\n    }\n\n    .dataframe thead th {\n        text-align: right;\n    }\n</style>\n<table border=\"1\" class=\"dataframe\">\n  <thead>\n    <tr style=\"text-align: right;\">\n      <th></th>\n      <th>Port Name</th>\n      <th>State</th>\n      <th>Port Code</th>\n      <th>Border</th>\n      <th>Date</th>\n      <th>Measure</th>\n      <th>Value</th>\n    </tr>\n  </thead>\n  <tbody>\n    <tr>\n      <td>0</td>\n      <td>Alcan</td>\n      <td>AK</td>\n      <td>3104</td>\n      <td>US-Canada Border</td>\n      <td>2020-02-01</td>\n      <td>Personal Vehicle Passengers</td>\n      <td>1414</td>\n    </tr>\n    <tr>\n      <td>1</td>\n      <td>Alcan</td>\n      <td>AK</td>\n      <td>3104</td>\n      <td>US-Canada Border</td>\n      <td>2020-02-01</td>\n      <td>Personal Vehicles</td>\n      <td>763</td>\n    </tr>\n    <tr>\n      <td>2</td>\n      <td>Alcan</td>\n      <td>AK</td>\n      <td>3104</td>\n      <td>US-Canada Border</td>\n      <td>2020-02-01</td>\n      <td>Truck Containers Empty</td>\n      <td>412</td>\n    </tr>\n    <tr>\n      <td>3</td>\n      <td>Alcan</td>\n      <td>AK</td>\n      <td>3104</td>\n      <td>US-Canada Border</td>\n      <td>2020-02-01</td>\n      <td>Truck Containers Full</td>\n      <td>122</td>\n    </tr>\n    <tr>\n      <td>4</td>\n      <td>Alcan</td>\n      <td>AK</td>\n      <td>3104</td>\n      <td>US-Canada Border</td>\n      <td>2020-02-01</td>\n      <td>Trucks</td>\n      <td>545</td>\n    </tr>\n  </tbody>\n</table>\n</div>"
     },
     "metadata": {},
     "execution_count": 14
    }
   ],
   "source": [
    "df = pd.read_csv('Border_Crossing_Entry_Data.csv', parse_dates=['Date'])\n",
    "df.head()"
   ]
  },
  {
   "cell_type": "markdown",
   "metadata": {},
   "source": [
    "**The data looks like it read in correctly with column names correctly assigned. The last 2 column names, 'Measure' and 'Value' are not very descriptive so let's change those to names that are more immediately informative.**"
   ]
  },
  {
   "cell_type": "code",
   "execution_count": 21,
   "metadata": {},
   "outputs": [
    {
     "output_type": "execute_result",
     "data": {
      "text/plain": "  Port Name State  Port Code            Border       Date  \\\n0     Alcan    AK       3104  US-Canada Border 2020-02-01   \n1     Alcan    AK       3104  US-Canada Border 2020-02-01   \n2     Alcan    AK       3104  US-Canada Border 2020-02-01   \n3     Alcan    AK       3104  US-Canada Border 2020-02-01   \n4     Alcan    AK       3104  US-Canada Border 2020-02-01   \n\n        Mode of Transportation  Number of Crossings  \n0  Personal Vehicle Passengers                 1414  \n1            Personal Vehicles                  763  \n2       Truck Containers Empty                  412  \n3        Truck Containers Full                  122  \n4                       Trucks                  545  ",
      "text/html": "<div>\n<style scoped>\n    .dataframe tbody tr th:only-of-type {\n        vertical-align: middle;\n    }\n\n    .dataframe tbody tr th {\n        vertical-align: top;\n    }\n\n    .dataframe thead th {\n        text-align: right;\n    }\n</style>\n<table border=\"1\" class=\"dataframe\">\n  <thead>\n    <tr style=\"text-align: right;\">\n      <th></th>\n      <th>Port Name</th>\n      <th>State</th>\n      <th>Port Code</th>\n      <th>Border</th>\n      <th>Date</th>\n      <th>Mode of Transportation</th>\n      <th>Number of Crossings</th>\n    </tr>\n  </thead>\n  <tbody>\n    <tr>\n      <td>0</td>\n      <td>Alcan</td>\n      <td>AK</td>\n      <td>3104</td>\n      <td>US-Canada Border</td>\n      <td>2020-02-01</td>\n      <td>Personal Vehicle Passengers</td>\n      <td>1414</td>\n    </tr>\n    <tr>\n      <td>1</td>\n      <td>Alcan</td>\n      <td>AK</td>\n      <td>3104</td>\n      <td>US-Canada Border</td>\n      <td>2020-02-01</td>\n      <td>Personal Vehicles</td>\n      <td>763</td>\n    </tr>\n    <tr>\n      <td>2</td>\n      <td>Alcan</td>\n      <td>AK</td>\n      <td>3104</td>\n      <td>US-Canada Border</td>\n      <td>2020-02-01</td>\n      <td>Truck Containers Empty</td>\n      <td>412</td>\n    </tr>\n    <tr>\n      <td>3</td>\n      <td>Alcan</td>\n      <td>AK</td>\n      <td>3104</td>\n      <td>US-Canada Border</td>\n      <td>2020-02-01</td>\n      <td>Truck Containers Full</td>\n      <td>122</td>\n    </tr>\n    <tr>\n      <td>4</td>\n      <td>Alcan</td>\n      <td>AK</td>\n      <td>3104</td>\n      <td>US-Canada Border</td>\n      <td>2020-02-01</td>\n      <td>Trucks</td>\n      <td>545</td>\n    </tr>\n  </tbody>\n</table>\n</div>"
     },
     "metadata": {},
     "execution_count": 21
    }
   ],
   "source": [
    "df.rename(columns = {'Measure': 'Mode of Transportation', 'Value': 'Number of Crossings'}, inplace=True)\n",
    "df.head()"
   ]
  },
  {
   "cell_type": "markdown",
   "metadata": {},
   "source": [
    "**Now let's dive a little deeper into the data. First, we'll use the info function.** "
   ]
  },
  {
   "cell_type": "code",
   "execution_count": 26,
   "metadata": {},
   "outputs": [
    {
     "output_type": "stream",
     "name": "stdout",
     "text": "<class 'pandas.core.frame.DataFrame'>\nRangeIndex: 355511 entries, 0 to 355510\nData columns (total 7 columns):\nPort Name                 355511 non-null object\nState                     355511 non-null object\nPort Code                 355511 non-null int64\nBorder                    355511 non-null object\nDate                      355511 non-null datetime64[ns]\nMode of Transportation    355511 non-null object\nNumber of Crossings       355511 non-null int64\ndtypes: datetime64[ns](1), int64(2), object(4)\nmemory usage: 19.0+ MB\n"
    }
   ],
   "source": [
    "df.info()"
   ]
  },
  {
   "cell_type": "markdown",
   "metadata": {},
   "source": [
    "**Here we can see that this is a very clean dataset. All rows have the same amount of non-null values. We can also see that our 'Date' is the correct datatype after parsing it upon reading it in.**"
   ]
  },
  {
   "cell_type": "code",
   "execution_count": 19,
   "metadata": {},
   "outputs": [
    {
     "output_type": "execute_result",
     "data": {
      "text/plain": "       Port Name   State      Port Code            Border  \\\ncount     355511  355511  355511.000000            355511   \nunique       116      15            NaN                 2   \ntop     Eastport      ND            NaN  US-Canada Border   \nfreq        5753   58290            NaN            272838   \nfirst        NaN     NaN            NaN               NaN   \nlast         NaN     NaN            NaN               NaN   \nmean         NaN     NaN    2454.009921               NaN   \nstd          NaN     NaN    1201.900231               NaN   \nmin          NaN     NaN     101.000000               NaN   \n25%          NaN     NaN    2304.000000               NaN   \n50%          NaN     NaN    3013.000000               NaN   \n75%          NaN     NaN    3402.000000               NaN   \nmax          NaN     NaN    4105.000000               NaN   \n\n                       Date            Measure         Value  \ncount                355511             355511  3.555110e+05  \nunique                  290                 12           NaN  \ntop     2010-07-01 00:00:00  Personal Vehicles           NaN  \nfreq                   1356              31425           NaN  \nfirst   1996-01-01 00:00:00                NaN           NaN  \nlast    2020-02-01 00:00:00                NaN           NaN  \nmean                    NaN                NaN  2.844758e+04  \nstd                     NaN                NaN  1.518807e+05  \nmin                     NaN                NaN  0.000000e+00  \n25%                     NaN                NaN  0.000000e+00  \n50%                     NaN                NaN  1.000000e+02  \n75%                     NaN                NaN  2.597500e+03  \nmax                     NaN                NaN  4.447374e+06  ",
      "text/html": "<div>\n<style scoped>\n    .dataframe tbody tr th:only-of-type {\n        vertical-align: middle;\n    }\n\n    .dataframe tbody tr th {\n        vertical-align: top;\n    }\n\n    .dataframe thead th {\n        text-align: right;\n    }\n</style>\n<table border=\"1\" class=\"dataframe\">\n  <thead>\n    <tr style=\"text-align: right;\">\n      <th></th>\n      <th>Port Name</th>\n      <th>State</th>\n      <th>Port Code</th>\n      <th>Border</th>\n      <th>Date</th>\n      <th>Measure</th>\n      <th>Value</th>\n    </tr>\n  </thead>\n  <tbody>\n    <tr>\n      <td>count</td>\n      <td>355511</td>\n      <td>355511</td>\n      <td>355511.000000</td>\n      <td>355511</td>\n      <td>355511</td>\n      <td>355511</td>\n      <td>3.555110e+05</td>\n    </tr>\n    <tr>\n      <td>unique</td>\n      <td>116</td>\n      <td>15</td>\n      <td>NaN</td>\n      <td>2</td>\n      <td>290</td>\n      <td>12</td>\n      <td>NaN</td>\n    </tr>\n    <tr>\n      <td>top</td>\n      <td>Eastport</td>\n      <td>ND</td>\n      <td>NaN</td>\n      <td>US-Canada Border</td>\n      <td>2010-07-01 00:00:00</td>\n      <td>Personal Vehicles</td>\n      <td>NaN</td>\n    </tr>\n    <tr>\n      <td>freq</td>\n      <td>5753</td>\n      <td>58290</td>\n      <td>NaN</td>\n      <td>272838</td>\n      <td>1356</td>\n      <td>31425</td>\n      <td>NaN</td>\n    </tr>\n    <tr>\n      <td>first</td>\n      <td>NaN</td>\n      <td>NaN</td>\n      <td>NaN</td>\n      <td>NaN</td>\n      <td>1996-01-01 00:00:00</td>\n      <td>NaN</td>\n      <td>NaN</td>\n    </tr>\n    <tr>\n      <td>last</td>\n      <td>NaN</td>\n      <td>NaN</td>\n      <td>NaN</td>\n      <td>NaN</td>\n      <td>2020-02-01 00:00:00</td>\n      <td>NaN</td>\n      <td>NaN</td>\n    </tr>\n    <tr>\n      <td>mean</td>\n      <td>NaN</td>\n      <td>NaN</td>\n      <td>2454.009921</td>\n      <td>NaN</td>\n      <td>NaN</td>\n      <td>NaN</td>\n      <td>2.844758e+04</td>\n    </tr>\n    <tr>\n      <td>std</td>\n      <td>NaN</td>\n      <td>NaN</td>\n      <td>1201.900231</td>\n      <td>NaN</td>\n      <td>NaN</td>\n      <td>NaN</td>\n      <td>1.518807e+05</td>\n    </tr>\n    <tr>\n      <td>min</td>\n      <td>NaN</td>\n      <td>NaN</td>\n      <td>101.000000</td>\n      <td>NaN</td>\n      <td>NaN</td>\n      <td>NaN</td>\n      <td>0.000000e+00</td>\n    </tr>\n    <tr>\n      <td>25%</td>\n      <td>NaN</td>\n      <td>NaN</td>\n      <td>2304.000000</td>\n      <td>NaN</td>\n      <td>NaN</td>\n      <td>NaN</td>\n      <td>0.000000e+00</td>\n    </tr>\n    <tr>\n      <td>50%</td>\n      <td>NaN</td>\n      <td>NaN</td>\n      <td>3013.000000</td>\n      <td>NaN</td>\n      <td>NaN</td>\n      <td>NaN</td>\n      <td>1.000000e+02</td>\n    </tr>\n    <tr>\n      <td>75%</td>\n      <td>NaN</td>\n      <td>NaN</td>\n      <td>3402.000000</td>\n      <td>NaN</td>\n      <td>NaN</td>\n      <td>NaN</td>\n      <td>2.597500e+03</td>\n    </tr>\n    <tr>\n      <td>max</td>\n      <td>NaN</td>\n      <td>NaN</td>\n      <td>4105.000000</td>\n      <td>NaN</td>\n      <td>NaN</td>\n      <td>NaN</td>\n      <td>4.447374e+06</td>\n    </tr>\n  </tbody>\n</table>\n</div>"
     },
     "metadata": {},
     "execution_count": 19
    }
   ],
   "source": [
    "df.describe(include='all')"
   ]
  },
  {
   "cell_type": "code",
   "execution_count": null,
   "metadata": {},
   "outputs": [],
   "source": []
  },
  {
   "cell_type": "code",
   "execution_count": null,
   "metadata": {},
   "outputs": [],
   "source": []
  }
 ],
 "metadata": {
  "language_info": {
   "codemirror_mode": {
    "name": "ipython",
    "version": 3
   },
   "file_extension": ".py",
   "mimetype": "text/x-python",
   "name": "python",
   "nbconvert_exporter": "python",
   "pygments_lexer": "ipython3",
   "version": "3.7.4-final"
  },
  "orig_nbformat": 2,
  "kernelspec": {
   "name": "python37464bitbaseconda68e905bc638043beabf2e502caa344b2",
   "display_name": "Python 3.7.4 64-bit ('base': conda)"
  }
 },
 "nbformat": 4,
 "nbformat_minor": 2
}